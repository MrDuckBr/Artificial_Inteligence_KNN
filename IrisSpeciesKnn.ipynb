{
 "cells": [
  {
   "cell_type": "markdown",
   "metadata": {},
   "source": [
    "##### Importing Libraries and data"
   ]
  },
  {
   "cell_type": "code",
   "execution_count": null,
   "metadata": {},
   "outputs": [
    {
     "ename": "",
     "evalue": "",
     "output_type": "error",
     "traceback": [
      "\u001b[1;31mFailed to start the Kernel. \n",
      "Unable to start Kernel 'Python 3.10.4 64-bit' due to connection timeout. \n",
      "View Jupyter <a href='command:jupyter.viewOutput'>log</a> for further details."
     ]
    }
   ],
   "source": [
    "import pandas as pd\n",
    "import numpy as np\n",
    "import matplotlib.pyplot as plt\n",
    "import seaborn as sns\n",
    "from math import sqrt\n",
    "sns.set_style(\"darkgrid\")"
   ]
  },
  {
   "cell_type": "code",
   "execution_count": null,
   "metadata": {},
   "outputs": [
    {
     "ename": "",
     "evalue": "",
     "output_type": "error",
     "traceback": [
      "\u001b[1;31mFailed to start the Kernel. \n",
      "Unable to start Kernel 'Python 3.10.4 64-bit' due to connection timeout. \n",
      "View Jupyter <a href='command:jupyter.viewOutput'>log</a> for further details."
     ]
    }
   ],
   "source": [
    "iris = pd.read_csv('data/iris1.csv')"
   ]
  },
  {
   "cell_type": "markdown",
   "metadata": {},
   "source": [
    "##### Visualizing the data"
   ]
  },
  {
   "cell_type": "code",
   "execution_count": null,
   "metadata": {},
   "outputs": [
    {
     "ename": "",
     "evalue": "",
     "output_type": "error",
     "traceback": [
      "\u001b[1;31mFailed to start the Kernel. \n",
      "Unable to start Kernel 'Python 3.10.4 64-bit' due to connection timeout. \n",
      "View Jupyter <a href='command:jupyter.viewOutput'>log</a> for further details."
     ]
    }
   ],
   "source": [
    "iris.shape"
   ]
  },
  {
   "cell_type": "code",
   "execution_count": null,
   "metadata": {},
   "outputs": [
    {
     "ename": "",
     "evalue": "",
     "output_type": "error",
     "traceback": [
      "\u001b[1;31mFailed to start the Kernel. \n",
      "Unable to start Kernel 'Python 3.10.4 64-bit' due to connection timeout. \n",
      "View Jupyter <a href='command:jupyter.viewOutput'>log</a> for further details."
     ]
    }
   ],
   "source": [
    "iris.head()"
   ]
  },
  {
   "cell_type": "code",
   "execution_count": null,
   "metadata": {},
   "outputs": [
    {
     "ename": "",
     "evalue": "",
     "output_type": "error",
     "traceback": [
      "\u001b[1;31mFailed to start the Kernel. \n",
      "Unable to start Kernel 'Python 3.10.4 64-bit' due to connection timeout. \n",
      "View Jupyter <a href='command:jupyter.viewOutput'>log</a> for further details."
     ]
    }
   ],
   "source": [
    "fig, axes = plt.subplots(figsize=(10,8))\n",
    "\n",
    "sns.scatterplot( data=iris,x='PetalLengthCm',y='SepalWidthCm',hue='Species')\n"
   ]
  },
  {
   "cell_type": "markdown",
   "metadata": {},
   "source": [
    "##### Processing the data"
   ]
  },
  {
   "cell_type": "code",
   "execution_count": null,
   "metadata": {},
   "outputs": [
    {
     "ename": "",
     "evalue": "",
     "output_type": "error",
     "traceback": [
      "\u001b[1;31mFailed to start the Kernel. \n",
      "Unable to start Kernel 'Python 3.10.4 64-bit' due to connection timeout. \n",
      "View Jupyter <a href='command:jupyter.viewOutput'>log</a> for further details."
     ]
    }
   ],
   "source": [
    "from sklearn.model_selection import train_test_split\n",
    "x, y = train_test_split(iris,test_size=0.2)"
   ]
  },
  {
   "cell_type": "code",
   "execution_count": null,
   "metadata": {},
   "outputs": [
    {
     "ename": "",
     "evalue": "",
     "output_type": "error",
     "traceback": [
      "\u001b[1;31mFailed to start the Kernel. \n",
      "Unable to start Kernel 'Python 3.10.4 64-bit' due to connection timeout. \n",
      "View Jupyter <a href='command:jupyter.viewOutput'>log</a> for further details."
     ]
    }
   ],
   "source": [
    "train = x.to_numpy()\n",
    "test = y.to_numpy()\n",
    "xTest = []\n",
    "yTest = []\n",
    "xTrain = []\n",
    "yTrain = []\n",
    "hueTrain = []\n",
    "for i in range(len(test)):\n",
    "    xTest.append(test[i][3])\n",
    "    yTest.append(test[i][2])\n",
    "for i in range(len(train)):\n",
    "    xTrain.append(train[i][3])\n",
    "    yTrain.append(train[i][2])\n",
    "    hueTrain.append(train[i][5])"
   ]
  },
  {
   "cell_type": "code",
   "execution_count": null,
   "metadata": {},
   "outputs": [
    {
     "ename": "",
     "evalue": "",
     "output_type": "error",
     "traceback": [
      "\u001b[1;31mFailed to start the Kernel. \n",
      "Unable to start Kernel 'Python 3.10.4 64-bit' due to connection timeout. \n",
      "View Jupyter <a href='command:jupyter.viewOutput'>log</a> for further details."
     ]
    }
   ],
   "source": [
    "plt.subplots(figsize=(15,8))\n",
    "\n",
    "sns.scatterplot(x=xTrain,y=yTrain,hue=hueTrain)\n",
    "sns.scatterplot(x=xTest,y=yTest,marker=\"+\",color=\"0.3\",s=100)"
   ]
  },
  {
   "cell_type": "markdown",
   "metadata": {},
   "source": [
    "##### Euclidian Distances"
   ]
  },
  {
   "cell_type": "code",
   "execution_count": null,
   "metadata": {},
   "outputs": [
    {
     "ename": "",
     "evalue": "",
     "output_type": "error",
     "traceback": [
      "\u001b[1;31mFailed to start the Kernel. \n",
      "Unable to start Kernel 'Python 3.10.4 64-bit' due to connection timeout. \n",
      "View Jupyter <a href='command:jupyter.viewOutput'>log</a> for further details."
     ]
    }
   ],
   "source": [
    "def distanciaEuclidiana(row1, row2):\n",
    "    distancia = ((row1[2] - row2[2]) ** 2) + ((row1[3] - row2[3]) ** 2)\n",
    "    return sqrt(distancia)"
   ]
  },
  {
   "cell_type": "markdown",
   "metadata": {},
   "source": [
    "##### Getting the neighbors"
   ]
  },
  {
   "cell_type": "code",
   "execution_count": null,
   "metadata": {},
   "outputs": [
    {
     "ename": "",
     "evalue": "",
     "output_type": "error",
     "traceback": [
      "\u001b[1;31mFailed to start the Kernel. \n",
      "Unable to start Kernel 'Python 3.10.4 64-bit' due to connection timeout. \n",
      "View Jupyter <a href='command:jupyter.viewOutput'>log</a> for further details."
     ]
    }
   ],
   "source": [
    "def get_neighbors(train, test_row, num_neighbors):\n",
    "    distances = []\n",
    "    for train_row in train:\n",
    "        dist = distanciaEuclidiana(test_row,train_row)\n",
    "        distances.append((train_row, dist))\n",
    "    distances.sort(key=lambda tup: tup[1])\n",
    "    neighbors = []\n",
    "    for i in range(num_neighbors):\n",
    "        neighbors.append(distances[i][0])\n",
    "    return neighbors"
   ]
  },
  {
   "cell_type": "markdown",
   "metadata": {},
   "source": [
    "##### KNN Classifier"
   ]
  },
  {
   "cell_type": "code",
   "execution_count": null,
   "metadata": {},
   "outputs": [
    {
     "ename": "",
     "evalue": "",
     "output_type": "error",
     "traceback": [
      "\u001b[1;31mFailed to start the Kernel. \n",
      "Unable to start Kernel 'Python 3.10.4 64-bit' due to connection timeout. \n",
      "View Jupyter <a href='command:jupyter.viewOutput'>log</a> for further details."
     ]
    }
   ],
   "source": [
    "from collections import Counter\n",
    "def KNNClassification(train, test_row, num_neighbors):\n",
    "    neighbors = get_neighbors(train, test_row, num_neighbors)\n",
    "    output_values = [row[-1] for row in neighbors]\n",
    "    prediction = Counter(output_values).most_common()[0][0]\n",
    "    return prediction"
   ]
  },
  {
   "cell_type": "markdown",
   "metadata": {},
   "source": [
    "###### Making Predictions"
   ]
  },
  {
   "cell_type": "code",
   "execution_count": null,
   "metadata": {},
   "outputs": [
    {
     "ename": "",
     "evalue": "",
     "output_type": "error",
     "traceback": [
      "\u001b[1;31mFailed to start the Kernel. \n",
      "Unable to start Kernel 'Python 3.10.4 64-bit' due to connection timeout. \n",
      "View Jupyter <a href='command:jupyter.viewOutput'>log</a> for further details."
     ]
    }
   ],
   "source": [
    "def predict(train, test, k):\n",
    "    colunas = [\"Iris-virginica\",\"Iris-setosa\",\"Iris-versicolor\"]\n",
    "    confusion_matrix = pd.DataFrame(0, index=colunas, columns=colunas)\n",
    "    inputData = []\n",
    "    predictedData = []\n",
    "    errorLine = []\n",
    "\n",
    "    for i in range(len(test)):\n",
    "        resultado = KNNClassification(train, test[i], k)\n",
    "        inputData.append(test[i][-1])\n",
    "        predictedData.append(resultado)\n",
    "        if(test[i][-1] != resultado):\n",
    "            errorLine.append([test[i],resultado])\n",
    "        confusion_matrix.loc[test[i][-1], resultado] = confusion_matrix.loc[test[i][-1], resultado] + 1\n",
    "    return inputData, predictedData,confusion_matrix,errorLine"
   ]
  },
  {
   "cell_type": "code",
   "execution_count": null,
   "metadata": {},
   "outputs": [
    {
     "ename": "",
     "evalue": "",
     "output_type": "error",
     "traceback": [
      "\u001b[1;31mFailed to start the Kernel. \n",
      "Unable to start Kernel 'Python 3.10.4 64-bit' due to connection timeout. \n",
      "View Jupyter <a href='command:jupyter.viewOutput'>log</a> for further details."
     ]
    }
   ],
   "source": [
    "from sklearn.metrics import accuracy_score\n",
    "from sklearn.metrics import recall_score\n",
    "from sklearn.metrics import precision_score\n",
    "from sklearn.metrics import f1_score"
   ]
  },
  {
   "cell_type": "markdown",
   "metadata": {},
   "source": [
    "### K = 1"
   ]
  },
  {
   "cell_type": "code",
   "execution_count": null,
   "metadata": {},
   "outputs": [
    {
     "ename": "",
     "evalue": "",
     "output_type": "error",
     "traceback": [
      "\u001b[1;31mFailed to start the Kernel. \n",
      "Unable to start Kernel 'Python 3.10.4 64-bit' due to connection timeout. \n",
      "View Jupyter <a href='command:jupyter.viewOutput'>log</a> for further details."
     ]
    }
   ],
   "source": [
    "input1, predicted1, cm1,error = predict(train,test,1) # k = 1\n",
    "\n",
    "print('Confusion Matrix :\\n')\n",
    "print(cm1)\n",
    "if(len(error)):\n",
    "    data = []\n",
    "    x = []\n",
    "    y = []\n",
    "    style = []\n",
    "    plt.subplots(figsize=(10,8))\n",
    "    for i in range(len(error)):\n",
    "        data.append(error[i][0])\n",
    "        x.append(error[i][0][3])\n",
    "        y.append(error[i][0][2])\n",
    "        style.append(error[i][0][5]+' -> '+error[i][1])\n",
    "    \n",
    "    sns.scatterplot( data=iris,x='PetalLengthCm',y='SepalWidthCm',hue='Species')\n",
    "    sns.scatterplot(data=error,x=x,y=y,color=\".1\",marker=\"s\",style=style)\n",
    "    plt.title(\"Erro\")\n",
    "\n",
    "\n",
    "print(\"\\nAcurácia: \", accuracy_score(input1, predicted1))\n",
    "print(\"Recall: \", recall_score(input1, predicted1, average=None))\n",
    "print(\"Precisão: \", precision_score(input1, predicted1, average=None))\n",
    "print(\"F-score: \", f1_score(input1, predicted1, average=None))"
   ]
  },
  {
   "cell_type": "markdown",
   "metadata": {},
   "source": [
    "### K = 3"
   ]
  },
  {
   "cell_type": "code",
   "execution_count": null,
   "metadata": {},
   "outputs": [
    {
     "ename": "",
     "evalue": "",
     "output_type": "error",
     "traceback": [
      "\u001b[1;31mFailed to start the Kernel. \n",
      "Unable to start Kernel 'Python 3.10.4 64-bit' due to connection timeout. \n",
      "View Jupyter <a href='command:jupyter.viewOutput'>log</a> for further details."
     ]
    }
   ],
   "source": [
    "input3, predicted3, cm3,error = predict(train,test,3) # k = 3\n",
    "\n",
    "print('Confusion Matrix :\\n')\n",
    "print(cm3)\n",
    "if(len(error)):\n",
    "    x = []\n",
    "    y = []\n",
    "    style = []\n",
    "    plt.subplots(figsize=(10,8))\n",
    "    for i in range(len(error)):\n",
    "        x.append(error[i][0][3])\n",
    "        y.append(error[i][0][2])\n",
    "        style.append(error[i][0][5]+' -> '+error[i][1])\n",
    "    \n",
    "    sns.scatterplot( data=iris,x='PetalLengthCm',y='SepalWidthCm',hue='Species')\n",
    "    sns.scatterplot( data=error,x=x,y=y,color=\".1\",marker=\"s\",style=style)\n",
    "    plt.title(\"Erro\")\n",
    "\n",
    "print(\"\\nAcurácia: \", accuracy_score(input3, predicted3))\n",
    "print(\"Recall: \", recall_score(input3, predicted3, average=None))\n",
    "print(\"Precisão: \", precision_score(input3, predicted3, average=None))\n",
    "print(\"F-score: \", f1_score(input3, predicted3, average=None))"
   ]
  },
  {
   "cell_type": "markdown",
   "metadata": {},
   "source": [
    "### K = 5"
   ]
  },
  {
   "cell_type": "code",
   "execution_count": null,
   "metadata": {},
   "outputs": [
    {
     "ename": "",
     "evalue": "",
     "output_type": "error",
     "traceback": [
      "\u001b[1;31mFailed to start the Kernel. \n",
      "Unable to start Kernel 'Python 3.10.4 64-bit' due to connection timeout. \n",
      "View Jupyter <a href='command:jupyter.viewOutput'>log</a> for further details."
     ]
    }
   ],
   "source": [
    "input5, predicted5, cm5,error = predict(train,test,5) # k = 5\n",
    "\n",
    "print('Confusion Matrix :\\n')\n",
    "print(cm5)\n",
    "if(len(error)):\n",
    "    x = []\n",
    "    y = []\n",
    "    style = []\n",
    "    plt.subplots(figsize=(10,8))\n",
    "    for i in range(len(error)):\n",
    "        x.append(error[i][0][3])\n",
    "        y.append(error[i][0][2])\n",
    "        style.append(error[i][0][5]+' -> '+error[i][1])\n",
    "    \n",
    "    sns.scatterplot( data=iris,x='PetalLengthCm',y='SepalWidthCm',hue='Species')\n",
    "    sns.scatterplot( data=error,x=x,y=y,color=\".1\",marker=\"s\",style=style)\n",
    "    plt.title(\"Erro\")\n",
    "\n",
    "print(\"\\nAcurácia: \", accuracy_score(input5, predicted5))\n",
    "print(\"Recall: \", recall_score(input5, predicted5, average=None))\n",
    "print(\"Precisão: \", precision_score(input5, predicted5, average=None))\n",
    "print(\"F-score: \", f1_score(input5, predicted5, average=None))"
   ]
  },
  {
   "cell_type": "markdown",
   "metadata": {},
   "source": [
    "### K = 7"
   ]
  },
  {
   "cell_type": "code",
   "execution_count": null,
   "metadata": {},
   "outputs": [
    {
     "ename": "",
     "evalue": "",
     "output_type": "error",
     "traceback": [
      "\u001b[1;31mFailed to start the Kernel. \n",
      "Unable to start Kernel 'Python 3.10.4 64-bit' due to connection timeout. \n",
      "View Jupyter <a href='command:jupyter.viewOutput'>log</a> for further details."
     ]
    }
   ],
   "source": [
    "input7, predicted7, cm7,error = predict(train,test,7) # k = 7\n",
    "\n",
    "print('Confusion Matrix :\\n')\n",
    "print(cm7)\n",
    "if(len(error)):\n",
    "    x = []\n",
    "    y = []\n",
    "    style = []\n",
    "    plt.subplots(figsize=(10,8))\n",
    "    for i in range(len(error)):\n",
    "        x.append(error[i][0][3])\n",
    "        y.append(error[i][0][2])\n",
    "        style.append(error[i][0][5]+' -> '+error[i][1])\n",
    "    \n",
    "    sns.scatterplot( data=iris,x='PetalLengthCm',y='SepalWidthCm',hue='Species')\n",
    "    sns.scatterplot( data=error,x=x,y=y,color=\".1\",marker=\"s\",style=style)\n",
    "    plt.title(\"Erro\")\n",
    "\n",
    "print(\"\\nAcurácia: \", accuracy_score(input7, predicted7))\n",
    "print(\"Recall: \", recall_score(input7, predicted7, average=None))\n",
    "print(\"Precisão: \", precision_score(input7, predicted7, average=None))\n",
    "print(\"F-score: \", f1_score(input7, predicted7, average=None))"
   ]
  },
  {
   "cell_type": "code",
   "execution_count": null,
   "metadata": {},
   "outputs": [
    {
     "ename": "",
     "evalue": "",
     "output_type": "error",
     "traceback": [
      "\u001b[1;31mFailed to start the Kernel. \n",
      "Unable to start Kernel 'Python 3.10.4 64-bit' due to connection timeout. \n",
      "View Jupyter <a href='command:jupyter.viewOutput'>log</a> for further details."
     ]
    }
   ],
   "source": []
  }
 ],
 "metadata": {
  "kernelspec": {
   "display_name": "Python 3",
   "language": "python",
   "name": "python3"
  },
  "language_info": {
   "codemirror_mode": {
    "name": "ipython",
    "version": 3
   },
   "file_extension": ".py",
   "mimetype": "text/x-python",
   "name": "python",
   "nbconvert_exporter": "python",
   "pygments_lexer": "ipython3",
   "version": "3.10.4"
  }
 },
 "nbformat": 4,
 "nbformat_minor": 2
}
